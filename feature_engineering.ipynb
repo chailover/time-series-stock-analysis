{
 "cells": [
  {
   "cell_type": "markdown",
   "metadata": {},
   "source": [
    "# Feature Engineering for Time Series Forecasting\n",
    "\n",
    "In this notebook, we will perform feature engineering on our time series dataset. This includes creating lag features and rolling statistics to enhance the dataset for modeling."
   ]
  },
  {
   "cell_type": "code",
   "execution_count": null,
   "metadata": {
    "collapsed": false
   },
   "outputs": [],
   "source": [
    "import pandas as pd\n",
    "import numpy as np\n",
    "\n",
    "# Load the processed data\n",
    "data = pd.read_csv('../data/processed/processed_data.csv', parse_dates=['date'], index_col='date')\n",
    "\n",
    "# Display the first few rows of the dataset\n",
    "data.head()"
   ]
  },
  {
   "cell_type": "markdown",
   "metadata": {},
   "source": [
    "## Creating Lag Features\n",
    "\n",
    "Lag features are previous time steps of the target variable. They can help the model understand the temporal dependencies in the data."
   ]
  },
  {
   "cell_type": "code",
   "execution_count": null,
   "metadata": {
    "collapsed": false
   },
   "outputs": [],
   "source": [
    "def create_lag_features(data, lag=1):\n",
    "    for i in range(1, lag + 1):\n",
    "        data[f'lag_{i}'] = data['target_variable'].shift(i)\n",
    "    return data\n",
    "\n",
    "# Create lag features\n",
    "data = create_lag_features(data, lag=5)\n",
    "data.head()"
   ]
  },
  {
   "cell_type": "markdown",
   "metadata": {},
   "source": [
    "## Creating Rolling Statistics\n",
    "\n",
    "Rolling statistics can provide insights into trends and seasonality in the data."
   ]
  },
  {
   "cell_type": "code",
   "execution_count": null,
   "metadata": {
    "collapsed": false
   },
   "outputs": [],
   "source": [
    "def create_rolling_statistics(data, window=3):\n",
    "    data[f'rolling_mean_{window}'] = data['target_variable'].rolling(window=window).mean()\n",
    "    data[f'rolling_std_{window}'] = data['target_variable'].rolling(window=window).std()\n",
    "    return data\n",
    "\n",
    "# Create rolling statistics\n",
    "data = create_rolling_statistics(data, window=3)\n",
    "data.head()"
   ]
  },
  {
   "cell_type": "markdown",
   "metadata": {},
   "source": [
    "## Finalizing the Dataset\n",
    "\n",
    "After creating the lag features and rolling statistics, we will finalize the dataset by dropping any rows with NaN values."
   ]
  },
  {
   "cell_type": "code",
   "execution_count": null,
   "metadata": {
    "collapsed": false
   },
   "outputs": [],
   "source": [
    "# Drop rows with NaN values\n",
    "data.dropna(inplace=True)\n",
    "\n",
    "# Save the enhanced dataset\n",
    "data.to_csv('../data/processed/enhanced_data.csv')\n",
    "data.head()"
   ]
  }
 ],
 "metadata": {
  "kernelspec": {
   "display_name": "Python 3",
   "language": "python",
   "name": "python3"
  },
  "language_info": {
   "codemirror_mode": {
    "name": "ipython",
    "version": 3
   },
   "file_extension": ".ipynb",
   "mimetype": "application/x-ipynb+json",
   "name": "python",
   "nbconvert_exporter": "python",
   "pygments_lexer": "ipython3",
   "version": "3.8.5"
  }
 },
 "nbformat": 4,
 "nbformat_minor": 4
}