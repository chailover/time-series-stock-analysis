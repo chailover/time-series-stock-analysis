{
 "cells": [
  {
   "cell_type": "markdown",
   "metadata": {},
   "source": [
    "# Data Cleaning\n",
    "\n",
    "This notebook focuses on cleaning the data collected for time series forecasting. It handles missing values and ensures the data is formatted correctly as a time series with a datetime index."
   ]
  },
  {
   "cell_type": "code",
   "execution_count": null,
   "metadata": {
    "collapsed": false
   },
   "outputs": [],
   "source": [
    "import pandas as pd\n",
    "import numpy as np\n",
    "\n",
    "# Load the dataset\n",
    "data_path = '../data/raw/your_data_file.csv'  # Update with your raw data file\n",
    "df = pd.read_csv(data_path)\n",
    "\n",
    "# Display the first few rows of the dataframe\n",
    "df.head()"
   ]
  },
  {
   "cell_type": "code",
   "execution_count": null,
   "metadata": {
    "collapsed": false
   },
   "outputs": [],
   "source": [
    "# Check for missing values\n",
    "missing_values = df.isnull().sum()\n",
    "missing_values[missing_values > 0]"
   ]
  },
  {
   "cell_type": "code",
   "execution_count": null,
   "metadata": {
    "collapsed": false
   },
   "outputs": [],
   "source": [
    "# Handle missing values\n",
    "# Example: Fill missing values with the forward fill method\n",
    "df.fillna(method='ffill', inplace=True)\n",
    "\n",
    "# Alternatively, you can drop rows with missing values\n",
    "# df.dropna(inplace=True)\n",
    "\n",
    "# Check again for missing values\n",
    "df.isnull().sum().sum()"
   ]
  },
  {
   "cell_type": "code",
   "execution_count": null,
   "metadata": {
    "collapsed": false
   },
   "outputs": [],
   "source": [
    "# Convert the date column to datetime format\n",
    "df['date'] = pd.to_datetime(df['date'])  # Update 'date' with your actual date column name\n",
    "\n",
    "# Set the date column as the index\n",
    "df.set_index('date', inplace=True)\n",
    "\n",
    "# Display the cleaned dataframe\n",
    "df.head()"
   ]
  },
  {
   "cell_type": "code",
   "execution_count": null,
   "metadata": {
    "collapsed": false
   },
   "outputs": [],
   "source": [
    "# Save the cleaned data to the processed directory\n",
    "processed_data_path = '../data/processed/cleaned_data.csv'  # Update with your desired processed data file name\n",
    "df.to_csv(processed_data_path)\n",
    "\n",
    "# Confirm the data has been saved\n",
    "pd.read_csv(processed_data_path).head()"
   ]
  }
 ],
 "metadata": {
  "kernelspec": {
   "display_name": "Python 3",
   "language": "python",
   "name": "python3"
  },
  "language_info": {
   "codemirror_mode": {
    "name": "ipython",
    "version": 3
   },
   "file_extension": ".py",
   "mimetype": "text/x-python",
   "name": "python",
   "nbconvert_exporter": "python",
   "pygments_lexer": "ipython3",
   "version": "3.8.5"
  }
 },
 "nbformat": 4,
 "nbformat_minor": 4
}